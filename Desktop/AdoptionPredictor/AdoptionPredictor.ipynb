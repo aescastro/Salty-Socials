{
 "cells": [
  {
   "cell_type": "code",
   "execution_count": 65,
   "metadata": {},
   "outputs": [],
   "source": [
    "import pandas as pd\n",
    "import numpy as np"
   ]
  },
  {
   "cell_type": "code",
   "execution_count": 66,
   "metadata": {},
   "outputs": [],
   "source": [
    "train = pd.read_csv('train_mod.csv')\n",
    "test = pd.read_csv('test_mod.csv')"
   ]
  },
  {
   "cell_type": "code",
   "execution_count": 67,
   "metadata": {},
   "outputs": [
    {
     "data": {
      "text/plain": [
       "Index(['pet_id', 'issue_date', 'listing_date', 'condition', 'color_type',\n",
       "       'length(m)', 'height(cm)', 'X1', 'X2', 'breed_category', 'pet_category',\n",
       "       'days_stayed', 'total_days_stayed', 'total_hours_stayed',\n",
       "       'condition_is_missing'],\n",
       "      dtype='object')"
      ]
     },
     "execution_count": 67,
     "metadata": {},
     "output_type": "execute_result"
    }
   ],
   "source": [
    "pd.set_option('display.max_columns', 15)\n",
    "train.columns"
   ]
  },
  {
   "cell_type": "code",
   "execution_count": 68,
   "metadata": {},
   "outputs": [],
   "source": [
    "## removed columns and rows not to be used for training\n",
    "\n",
    "filt = train['condition_is_missing'] != 1\n",
    "train = train[filt]\n",
    "train.drop(columns=['pet_id', 'issue_date', 'days_stayed', 'condition_is_missing'], inplace=True)"
   ]
  },
  {
   "cell_type": "code",
   "execution_count": 69,
   "metadata": {},
   "outputs": [],
   "source": [
    "## removed times from listing dates and set it as index\n",
    "\n",
    "train['listing_date'] = train['listing_date'].apply(lambda x: x.split(\" \")[0])\n",
    "train.set_index('listing_date', inplace=True)"
   ]
  },
  {
   "cell_type": "code",
   "execution_count": 70,
   "metadata": {},
   "outputs": [],
   "source": [
    "## looking for sig correlations between days stayed and other columns; made new columns\n",
    "\n",
    "train['l/h'] = train['length(m)']/train['height(cm)']\n",
    "train['X1/X2'] = train['X1']/train['X2']\n",
    "train.corr()\n",
    "\n",
    "train = train.dropna() # remove null values produced from newly made columns"
   ]
  },
  {
   "cell_type": "code",
   "execution_count": 71,
   "metadata": {},
   "outputs": [
    {
     "data": {
      "text/plain": [
       "['condition',\n",
       " 'color_type',\n",
       " 'length(m)',\n",
       " 'height(cm)',\n",
       " 'X1',\n",
       " 'X2',\n",
       " 'pet_category',\n",
       " 'total_days_stayed',\n",
       " 'total_hours_stayed',\n",
       " 'l/h',\n",
       " 'X1/X2']"
      ]
     },
     "execution_count": 71,
     "metadata": {},
     "output_type": "execute_result"
    }
   ],
   "source": [
    "## separate y column from training set\n",
    "train_output = train['breed_category']\n",
    "train.drop(columns='breed_category', inplace=True)\n",
    "\n",
    "\n",
    "# separate the names of x column(s) in training df that are numerical from categorical\n",
    "train_num = train.drop('color_type', axis=1)\n",
    "num_attribs = list(train_num)\n",
    "\n",
    "cat_attribs = ['color_type']"
   ]
  },
  {
   "cell_type": "code",
   "execution_count": 72,
   "metadata": {},
   "outputs": [
    {
     "data": {
      "text/plain": [
       "<17353x65 sparse matrix of type '<class 'numpy.float64'>'\n",
       "\twith 190883 stored elements in Compressed Sparse Row format>"
      ]
     },
     "execution_count": 72,
     "metadata": {},
     "output_type": "execute_result"
    }
   ],
   "source": [
    "from sklearn.compose import ColumnTransformer\n",
    "from sklearn.preprocessing import StandardScaler\n",
    "from sklearn.preprocessing import OneHotEncoder\n",
    "\n",
    "# transforms all columns appropriately\n",
    "transformer = ColumnTransformer([('num', StandardScaler(), num_attribs), ('cat', OneHotEncoder(), cat_attribs),])\n",
    "train_prepared = transformer.fit_transform(train)\n",
    "\n",
    "train_prepared"
   ]
  },
  {
   "cell_type": "code",
   "execution_count": 73,
   "metadata": {},
   "outputs": [],
   "source": [
    "## training and evaluating on training set (used linear reg but can try other models)\n",
    "\n",
    "from sklearn.linear_model import LinearRegression\n",
    "\n",
    "X = train_prepared\n",
    "y = train_output\n",
    "\n",
    "lin_reg = LinearRegression()\n",
    "fitted_training = lin_reg.fit(X, y)"
   ]
  },
  {
   "cell_type": "code",
   "execution_count": 74,
   "metadata": {},
   "outputs": [
    {
     "data": {
      "text/plain": [
       "0.40929661972913733"
      ]
     },
     "execution_count": 74,
     "metadata": {},
     "output_type": "execute_result"
    }
   ],
   "source": [
    "## measure RMSE to see model's level of performance\n",
    "\n",
    "from sklearn.metrics import mean_squared_error\n",
    "\n",
    "train_predictions = lin_reg.predict(train_prepared)\n",
    "lin_mse = mean_squared_error(train_output, train_predictions)\n",
    "lin_rmse = np.sqrt(lin_mse)\n",
    "lin_rmse"
   ]
  },
  {
   "cell_type": "code",
   "execution_count": 75,
   "metadata": {},
   "outputs": [
    {
     "name": "stdout",
     "output_type": "stream",
     "text": [
      "Scores: [0.41075554 0.41835256 0.40659299 0.40397401 0.40948521 0.39686723\n",
      " 0.41383624 0.40526686 0.4179961  0.42657302]\n",
      "Mean: 0.4109699772810049\n",
      "SD: 0.00810743198966674\n"
     ]
    }
   ],
   "source": [
    "## better evaluation via cross-validation\n",
    "\n",
    "from sklearn.model_selection import cross_val_score\n",
    "\n",
    "scores = cross_val_score(lin_reg, train_prepared, train_output, scoring='neg_mean_squared_error', cv=10)\n",
    "lin_rmse_scores = np.sqrt(-scores)\n",
    "\n",
    "def display_scores(scores):\n",
    "    print(\"Scores:\", scores)\n",
    "    print(\"Mean:\", scores.mean())\n",
    "    print(\"SD:\", scores.std())\n",
    "\n",
    "display_scores(lin_rmse_scores)"
   ]
  },
  {
   "cell_type": "code",
   "execution_count": 76,
   "metadata": {},
   "outputs": [
    {
     "name": "stdout",
     "output_type": "stream",
     "text": [
      "Fitting 5 folds for each of 7 candidates, totalling 35 fits\n"
     ]
    },
    {
     "name": "stderr",
     "output_type": "stream",
     "text": [
      "[Parallel(n_jobs=-1)]: Using backend LokyBackend with 4 concurrent workers.\n",
      "[Parallel(n_jobs=-1)]: Done  28 out of  35 | elapsed:    0.5s remaining:    0.1s\n",
      "[Parallel(n_jobs=-1)]: Done  35 out of  35 | elapsed:    0.6s finished\n"
     ]
    }
   ],
   "source": [
    "## find best hyperparameters via grid search\n",
    "\n",
    "from sklearn.model_selection import GridSearchCV\n",
    "from sklearn.linear_model import Ridge\n",
    "\n",
    "ridge = Ridge(alpha=1).fit(train_prepared, train_output)\n",
    "alpha = [0.001, 0.01, 0.1, 1, 10, 100, 1000]\n",
    "param_grid = dict(alpha=alpha)\n",
    "\n",
    "grid = GridSearchCV(estimator=ridge, param_grid=param_grid, scoring='r2', verbose=1, n_jobs=-1, refit=True)\n",
    "grid_result = grid.fit(train_prepared, train_output)"
   ]
  },
  {
   "cell_type": "code",
   "execution_count": 77,
   "metadata": {},
   "outputs": [
    {
     "name": "stdout",
     "output_type": "stream",
     "text": [
      "Best Score:  0.3231885134960345\n",
      "Best Params:  {'alpha': 10}\n"
     ]
    }
   ],
   "source": [
    "print('Best Score: ', grid_result.best_score_) # R squared score (binary, 1 is better)\n",
    "print('Best Params: ', grid_result.best_params_)"
   ]
  }
 ],
 "metadata": {
  "kernelspec": {
   "display_name": "Python 3",
   "language": "python",
   "name": "python3"
  },
  "language_info": {
   "codemirror_mode": {
    "name": "ipython",
    "version": 3
   },
   "file_extension": ".py",
   "mimetype": "text/x-python",
   "name": "python",
   "nbconvert_exporter": "python",
   "pygments_lexer": "ipython3",
   "version": "3.7.9"
  }
 },
 "nbformat": 4,
 "nbformat_minor": 4
}
