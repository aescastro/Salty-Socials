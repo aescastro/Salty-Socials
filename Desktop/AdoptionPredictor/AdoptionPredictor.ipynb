{
 "cells": [
  {
   "cell_type": "code",
   "execution_count": 444,
   "metadata": {},
   "outputs": [],
   "source": [
    "import pandas as pd\n",
    "import numpy as np"
   ]
  },
  {
   "cell_type": "code",
   "execution_count": 445,
   "metadata": {},
   "outputs": [],
   "source": [
    "train = pd.read_csv('train_mod.csv')\n",
    "test = pd.read_csv('test_mod.csv')"
   ]
  },
  {
   "cell_type": "code",
   "execution_count": 446,
   "metadata": {},
   "outputs": [
    {
     "data": {
      "text/plain": [
       "Index(['pet_id', 'issue_date', 'listing_date', 'condition', 'color_type',\n",
       "       'length(m)', 'height(cm)', 'X1', 'X2', 'breed_category', 'pet_category',\n",
       "       'days_stayed', 'total_days_stayed', 'total_hours_stayed',\n",
       "       'condition_is_missing'],\n",
       "      dtype='object')"
      ]
     },
     "execution_count": 446,
     "metadata": {},
     "output_type": "execute_result"
    }
   ],
   "source": [
    "pd.set_option('display.max_columns', 15)\n",
    "train.columns"
   ]
  },
  {
   "cell_type": "code",
   "execution_count": 447,
   "metadata": {},
   "outputs": [],
   "source": [
    "## removed columns and rows not to be used for training\n",
    "\n",
    "filt = train['condition_is_missing'] != 1\n",
    "train = train[filt]\n",
    "train.drop(columns=['pet_id', 'issue_date', 'days_stayed', 'condition_is_missing'], inplace=True)"
   ]
  },
  {
   "cell_type": "code",
   "execution_count": 448,
   "metadata": {},
   "outputs": [],
   "source": [
    "## removed times from listing date and set as index\n",
    "\n",
    "train['listing_date'] = train['listing_date'].apply(lambda x: x.split(\" \")[0])\n",
    "train.set_index('listing_date', inplace=True)"
   ]
  },
  {
   "cell_type": "code",
   "execution_count": 449,
   "metadata": {},
   "outputs": [],
   "source": [
    "## looking for sig correlations between days stayed and other columns; made new columns\n",
    "\n",
    "train['days_and_hours'] = train['total_days_stayed'] + train['total_hours_stayed']\n",
    "train['l/h'] = train['length(m)']/train['height(cm)']\n",
    "train['X1/X2'] = train['X1']/train['X2']\n",
    "train.corr()\n",
    "\n",
    "train = train.dropna()"
   ]
  },
  {
   "cell_type": "code",
   "execution_count": 450,
   "metadata": {},
   "outputs": [],
   "source": [
    "## turns color types to numerical values but goes by order of array\n",
    "\n",
    "#train_color = train[['color_type']]\n",
    "\n",
    "# from sklearn.preprocessing import OrdinalEncoder\n",
    "# ordinal_encoder = OrdinalEncoder()\n",
    "# color_encoded = ordinal_encoder.fit_transform(train_color)\n",
    "# color_encoded[:10]"
   ]
  },
  {
   "cell_type": "code",
   "execution_count": 451,
   "metadata": {},
   "outputs": [],
   "source": [
    "## turns (categorical) color types to (numerical) binary values\n",
    "\n",
    "# from sklearn.preprocessing import OneHotEncoder\n",
    "\n",
    "# train_cat = train[['color_type']]\n",
    "\n",
    "# cat_encoder = OneHotEncoder()\n",
    "# train_cat_1hot = cat_encoder.fit_transform(train_cat)\n",
    "# train_cat_1hot"
   ]
  },
  {
   "cell_type": "code",
   "execution_count": 452,
   "metadata": {},
   "outputs": [
    {
     "data": {
      "text/plain": [
       "<17353x66 sparse matrix of type '<class 'numpy.float64'>'\n",
       "\twith 208236 stored elements in Compressed Sparse Row format>"
      ]
     },
     "execution_count": 452,
     "metadata": {},
     "output_type": "execute_result"
    }
   ],
   "source": [
    "from sklearn.compose import ColumnTransformer\n",
    "from sklearn.preprocessing import StandardScaler\n",
    "\n",
    "## separate x and y columns of training set\n",
    "train_output = train['days_and_hours']\n",
    "train.drop(columns='days_and_hours', inplace=True)\n",
    "\n",
    "\n",
    "## data in training df that is numerical\n",
    "train_num = train.drop('color_type', axis=1)\n",
    "\n",
    "# num and cat attribute column names as separate lists\n",
    "num_attribs = list(train_num)\n",
    "cat_attribs = ['color_type']\n",
    "\n",
    "## transforms all columns appropriately\n",
    "prepped_columns = ColumnTransformer([('num', StandardScaler(), num_attribs), ('cat', OneHotEncoder(), cat_attribs),])\n",
    "train_prepared = prepped_columns.fit_transform(train)\n",
    "\n",
    "train_prepared"
   ]
  },
  {
   "cell_type": "code",
   "execution_count": 453,
   "metadata": {},
   "outputs": [
    {
     "data": {
      "text/plain": [
       "LinearRegression()"
      ]
     },
     "execution_count": 453,
     "metadata": {},
     "output_type": "execute_result"
    }
   ],
   "source": [
    "## training and evaluating on training set\n",
    "\n",
    "from sklearn.linear_model import LinearRegression\n",
    "\n",
    "X = train_prepared\n",
    "y = train_output\n",
    "\n",
    "lin_reg = LinearRegression()\n",
    "lin_reg.fit(X, y)"
   ]
  },
  {
   "cell_type": "code",
   "execution_count": 455,
   "metadata": {},
   "outputs": [
    {
     "data": {
      "text/plain": [
       "9.841680036472838e-05"
      ]
     },
     "execution_count": 455,
     "metadata": {},
     "output_type": "execute_result"
    }
   ],
   "source": [
    "## measure RMSE to see model's level of performance\n",
    "\n",
    "from sklearn.metrics import mean_squared_error\n",
    "\n",
    "train_predictions = lin_reg.predict(train_prepared)\n",
    "lin_mse = mean_squared_error(train_output, train_predictions)\n",
    "lin_rmse = np.sqrt(lin_mse)\n",
    "lin_rmse\n",
    "\n"
   ]
  },
  {
   "cell_type": "code",
   "execution_count": null,
   "metadata": {},
   "outputs": [],
   "source": [
    "## better evaluation via cross-validation"
   ]
  }
 ],
 "metadata": {
  "kernelspec": {
   "display_name": "Python 3",
   "language": "python",
   "name": "python3"
  },
  "language_info": {
   "codemirror_mode": {
    "name": "ipython",
    "version": 3
   },
   "file_extension": ".py",
   "mimetype": "text/x-python",
   "name": "python",
   "nbconvert_exporter": "python",
   "pygments_lexer": "ipython3",
   "version": "3.7.9"
  }
 },
 "nbformat": 4,
 "nbformat_minor": 4
}
