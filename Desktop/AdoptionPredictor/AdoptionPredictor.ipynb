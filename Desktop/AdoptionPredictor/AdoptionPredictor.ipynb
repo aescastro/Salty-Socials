{
 "cells": [
  {
   "cell_type": "code",
   "execution_count": 182,
   "metadata": {},
   "outputs": [],
   "source": [
    "import pandas as pd\n",
    "import numpy as np"
   ]
  },
  {
   "cell_type": "code",
   "execution_count": 183,
   "metadata": {},
   "outputs": [],
   "source": [
    "train = pd.read_csv('train_mod.csv')\n",
    "test = pd.read_csv('test_mod.csv')"
   ]
  },
  {
   "cell_type": "code",
   "execution_count": 184,
   "metadata": {},
   "outputs": [
    {
     "data": {
      "text/plain": [
       "Index(['pet_id', 'issue_date', 'listing_date', 'condition', 'color_type',\n",
       "       'length(m)', 'height(cm)', 'X1', 'X2', 'breed_category', 'pet_category',\n",
       "       'days_stayed', 'total_days_stayed', 'total_hours_stayed',\n",
       "       'condition_is_missing'],\n",
       "      dtype='object')"
      ]
     },
     "execution_count": 184,
     "metadata": {},
     "output_type": "execute_result"
    }
   ],
   "source": [
    "pd.set_option('display.max_columns', 15)\n",
    "train.columns"
   ]
  },
  {
   "cell_type": "code",
   "execution_count": 185,
   "metadata": {},
   "outputs": [],
   "source": [
    "## removed columns and rows not to be used for training\n",
    "\n",
    "filt = train['condition_is_missing'] != 1\n",
    "train = train[filt]\n",
    "train.drop(columns=['pet_id', 'issue_date', 'days_stayed', 'condition_is_missing'], inplace=True)"
   ]
  },
  {
   "cell_type": "code",
   "execution_count": 186,
   "metadata": {},
   "outputs": [],
   "source": [
    "## removed times from listing dates and set it as index\n",
    "\n",
    "train['listing_date'] = train['listing_date'].apply(lambda x: x.split(\" \")[0])\n",
    "train.set_index('listing_date', inplace=True)"
   ]
  },
  {
   "cell_type": "code",
   "execution_count": 187,
   "metadata": {},
   "outputs": [
    {
     "data": {
      "text/html": [
       "<div>\n",
       "<style scoped>\n",
       "    .dataframe tbody tr th:only-of-type {\n",
       "        vertical-align: middle;\n",
       "    }\n",
       "\n",
       "    .dataframe tbody tr th {\n",
       "        vertical-align: top;\n",
       "    }\n",
       "\n",
       "    .dataframe thead th {\n",
       "        text-align: right;\n",
       "    }\n",
       "</style>\n",
       "<table border=\"1\" class=\"dataframe\">\n",
       "  <thead>\n",
       "    <tr style=\"text-align: right;\">\n",
       "      <th></th>\n",
       "      <th>condition</th>\n",
       "      <th>length(m)</th>\n",
       "      <th>height(cm)</th>\n",
       "      <th>X1</th>\n",
       "      <th>X2</th>\n",
       "      <th>breed_category</th>\n",
       "      <th>pet_category</th>\n",
       "      <th>total_days_stayed</th>\n",
       "      <th>total_hours_stayed</th>\n",
       "      <th>l/h</th>\n",
       "      <th>X1/X2</th>\n",
       "    </tr>\n",
       "  </thead>\n",
       "  <tbody>\n",
       "    <tr>\n",
       "      <th>condition</th>\n",
       "      <td>1.000000</td>\n",
       "      <td>-0.011219</td>\n",
       "      <td>-0.010793</td>\n",
       "      <td>0.338843</td>\n",
       "      <td>0.381696</td>\n",
       "      <td>-0.483503</td>\n",
       "      <td>-0.041660</td>\n",
       "      <td>-0.101837</td>\n",
       "      <td>-0.115996</td>\n",
       "      <td>0.003851</td>\n",
       "      <td>0.020888</td>\n",
       "    </tr>\n",
       "    <tr>\n",
       "      <th>length(m)</th>\n",
       "      <td>-0.011219</td>\n",
       "      <td>1.000000</td>\n",
       "      <td>-0.001461</td>\n",
       "      <td>-0.004543</td>\n",
       "      <td>-0.012465</td>\n",
       "      <td>0.006317</td>\n",
       "      <td>-0.007712</td>\n",
       "      <td>0.002831</td>\n",
       "      <td>-0.003292</td>\n",
       "      <td>0.563482</td>\n",
       "      <td>0.005378</td>\n",
       "    </tr>\n",
       "    <tr>\n",
       "      <th>height(cm)</th>\n",
       "      <td>-0.010793</td>\n",
       "      <td>-0.001461</td>\n",
       "      <td>1.000000</td>\n",
       "      <td>-0.006197</td>\n",
       "      <td>-0.007746</td>\n",
       "      <td>0.012808</td>\n",
       "      <td>-0.005288</td>\n",
       "      <td>-0.000850</td>\n",
       "      <td>0.008358</td>\n",
       "      <td>-0.603322</td>\n",
       "      <td>0.002912</td>\n",
       "    </tr>\n",
       "    <tr>\n",
       "      <th>X1</th>\n",
       "      <td>0.338843</td>\n",
       "      <td>-0.004543</td>\n",
       "      <td>-0.006197</td>\n",
       "      <td>1.000000</td>\n",
       "      <td>0.608291</td>\n",
       "      <td>0.024412</td>\n",
       "      <td>-0.249709</td>\n",
       "      <td>-0.063172</td>\n",
       "      <td>-0.356665</td>\n",
       "      <td>0.004289</td>\n",
       "      <td>0.506579</td>\n",
       "    </tr>\n",
       "    <tr>\n",
       "      <th>X2</th>\n",
       "      <td>0.381696</td>\n",
       "      <td>-0.012465</td>\n",
       "      <td>-0.007746</td>\n",
       "      <td>0.608291</td>\n",
       "      <td>1.000000</td>\n",
       "      <td>-0.022245</td>\n",
       "      <td>0.008162</td>\n",
       "      <td>0.146930</td>\n",
       "      <td>-0.293872</td>\n",
       "      <td>-0.001791</td>\n",
       "      <td>-0.068663</td>\n",
       "    </tr>\n",
       "    <tr>\n",
       "      <th>breed_category</th>\n",
       "      <td>-0.483503</td>\n",
       "      <td>0.006317</td>\n",
       "      <td>0.012808</td>\n",
       "      <td>0.024412</td>\n",
       "      <td>-0.022245</td>\n",
       "      <td>1.000000</td>\n",
       "      <td>-0.044520</td>\n",
       "      <td>-0.022957</td>\n",
       "      <td>0.004687</td>\n",
       "      <td>-0.004144</td>\n",
       "      <td>0.032495</td>\n",
       "    </tr>\n",
       "    <tr>\n",
       "      <th>pet_category</th>\n",
       "      <td>-0.041660</td>\n",
       "      <td>-0.007712</td>\n",
       "      <td>-0.005288</td>\n",
       "      <td>-0.249709</td>\n",
       "      <td>0.008162</td>\n",
       "      <td>-0.044520</td>\n",
       "      <td>1.000000</td>\n",
       "      <td>0.172713</td>\n",
       "      <td>0.067444</td>\n",
       "      <td>0.001016</td>\n",
       "      <td>-0.213931</td>\n",
       "    </tr>\n",
       "    <tr>\n",
       "      <th>total_days_stayed</th>\n",
       "      <td>-0.101837</td>\n",
       "      <td>0.002831</td>\n",
       "      <td>-0.000850</td>\n",
       "      <td>-0.063172</td>\n",
       "      <td>0.146930</td>\n",
       "      <td>-0.022957</td>\n",
       "      <td>0.172713</td>\n",
       "      <td>1.000000</td>\n",
       "      <td>-0.048918</td>\n",
       "      <td>0.005256</td>\n",
       "      <td>-0.074332</td>\n",
       "    </tr>\n",
       "    <tr>\n",
       "      <th>total_hours_stayed</th>\n",
       "      <td>-0.115996</td>\n",
       "      <td>-0.003292</td>\n",
       "      <td>0.008358</td>\n",
       "      <td>-0.356665</td>\n",
       "      <td>-0.293872</td>\n",
       "      <td>0.004687</td>\n",
       "      <td>0.067444</td>\n",
       "      <td>-0.048918</td>\n",
       "      <td>1.000000</td>\n",
       "      <td>-0.015585</td>\n",
       "      <td>-0.190352</td>\n",
       "    </tr>\n",
       "    <tr>\n",
       "      <th>l/h</th>\n",
       "      <td>0.003851</td>\n",
       "      <td>0.563482</td>\n",
       "      <td>-0.603322</td>\n",
       "      <td>0.004289</td>\n",
       "      <td>-0.001791</td>\n",
       "      <td>-0.004144</td>\n",
       "      <td>0.001016</td>\n",
       "      <td>0.005256</td>\n",
       "      <td>-0.015585</td>\n",
       "      <td>1.000000</td>\n",
       "      <td>0.009751</td>\n",
       "    </tr>\n",
       "    <tr>\n",
       "      <th>X1/X2</th>\n",
       "      <td>0.020888</td>\n",
       "      <td>0.005378</td>\n",
       "      <td>0.002912</td>\n",
       "      <td>0.506579</td>\n",
       "      <td>-0.068663</td>\n",
       "      <td>0.032495</td>\n",
       "      <td>-0.213931</td>\n",
       "      <td>-0.074332</td>\n",
       "      <td>-0.190352</td>\n",
       "      <td>0.009751</td>\n",
       "      <td>1.000000</td>\n",
       "    </tr>\n",
       "  </tbody>\n",
       "</table>\n",
       "</div>"
      ],
      "text/plain": [
       "                    condition  length(m)  height(cm)        X1        X2  \\\n",
       "condition            1.000000  -0.011219   -0.010793  0.338843  0.381696   \n",
       "length(m)           -0.011219   1.000000   -0.001461 -0.004543 -0.012465   \n",
       "height(cm)          -0.010793  -0.001461    1.000000 -0.006197 -0.007746   \n",
       "X1                   0.338843  -0.004543   -0.006197  1.000000  0.608291   \n",
       "X2                   0.381696  -0.012465   -0.007746  0.608291  1.000000   \n",
       "breed_category      -0.483503   0.006317    0.012808  0.024412 -0.022245   \n",
       "pet_category        -0.041660  -0.007712   -0.005288 -0.249709  0.008162   \n",
       "total_days_stayed   -0.101837   0.002831   -0.000850 -0.063172  0.146930   \n",
       "total_hours_stayed  -0.115996  -0.003292    0.008358 -0.356665 -0.293872   \n",
       "l/h                  0.003851   0.563482   -0.603322  0.004289 -0.001791   \n",
       "X1/X2                0.020888   0.005378    0.002912  0.506579 -0.068663   \n",
       "\n",
       "                    breed_category  pet_category  total_days_stayed  \\\n",
       "condition                -0.483503     -0.041660          -0.101837   \n",
       "length(m)                 0.006317     -0.007712           0.002831   \n",
       "height(cm)                0.012808     -0.005288          -0.000850   \n",
       "X1                        0.024412     -0.249709          -0.063172   \n",
       "X2                       -0.022245      0.008162           0.146930   \n",
       "breed_category            1.000000     -0.044520          -0.022957   \n",
       "pet_category             -0.044520      1.000000           0.172713   \n",
       "total_days_stayed        -0.022957      0.172713           1.000000   \n",
       "total_hours_stayed        0.004687      0.067444          -0.048918   \n",
       "l/h                      -0.004144      0.001016           0.005256   \n",
       "X1/X2                     0.032495     -0.213931          -0.074332   \n",
       "\n",
       "                    total_hours_stayed       l/h     X1/X2  \n",
       "condition                    -0.115996  0.003851  0.020888  \n",
       "length(m)                    -0.003292  0.563482  0.005378  \n",
       "height(cm)                    0.008358 -0.603322  0.002912  \n",
       "X1                           -0.356665  0.004289  0.506579  \n",
       "X2                           -0.293872 -0.001791 -0.068663  \n",
       "breed_category                0.004687 -0.004144  0.032495  \n",
       "pet_category                  0.067444  0.001016 -0.213931  \n",
       "total_days_stayed            -0.048918  0.005256 -0.074332  \n",
       "total_hours_stayed            1.000000 -0.015585 -0.190352  \n",
       "l/h                          -0.015585  1.000000  0.009751  \n",
       "X1/X2                        -0.190352  0.009751  1.000000  "
      ]
     },
     "execution_count": 187,
     "metadata": {},
     "output_type": "execute_result"
    }
   ],
   "source": [
    "## looking for sig correlations between days stayed and other/newly made columns\n",
    "\n",
    "train['l/h'] = train['length(m)']/train['height(cm)']\n",
    "train['X1/X2'] = train['X1']/train['X2']\n",
    "train.corr()"
   ]
  },
  {
   "cell_type": "code",
   "execution_count": 188,
   "metadata": {},
   "outputs": [],
   "source": [
    "# remove null values produced from newly made columns\n",
    "train = train.dropna()\n",
    "\n",
    "# drop columns with less than 0.01 correlation to pet category\n",
    "train.drop(columns=['l/h', 'length(m)', 'height(cm)', 'X2'], inplace=True)"
   ]
  },
  {
   "cell_type": "code",
   "execution_count": 189,
   "metadata": {},
   "outputs": [],
   "source": [
    "## separate y column from training set\n",
    "train_output = train['pet_category']\n",
    "train.drop(columns='pet_category', inplace=True)\n",
    "\n",
    "\n",
    "# separate the names of x column(s) in training df that are numerical from categorical and num with low correlations\n",
    "train_num = train.drop('color_type', axis=1)\n",
    "num_attribs = list(train_num)\n",
    "\n",
    "cat_attribs = ['color_type']"
   ]
  },
  {
   "cell_type": "code",
   "execution_count": 196,
   "metadata": {},
   "outputs": [
    {
     "data": {
      "text/plain": [
       "<17353x61 sparse matrix of type '<class 'numpy.float64'>'\n",
       "\twith 121471 stored elements in Compressed Sparse Row format>"
      ]
     },
     "execution_count": 196,
     "metadata": {},
     "output_type": "execute_result"
    }
   ],
   "source": [
    "from sklearn.compose import ColumnTransformer\n",
    "from sklearn.preprocessing import StandardScaler, OneHotEncoder\n",
    "from sklearn.pipeline import Pipeline\n",
    "from sklearn.impute import SimpleImputer\n",
    "\n",
    "numeric_transformer = Pipeline(steps=[\n",
    "    ('imputer', SimpleImputer(strategy='median')),\n",
    "    ('scaler', StandardScaler())])\n",
    "\n",
    "# transforms all columns appropriately\n",
    "transformer = ColumnTransformer([('num', numeric_transformer, num_attribs), ('cat', OneHotEncoder(), cat_attribs),])\n",
    "train_prepared = transformer.fit_transform(train)\n",
    "\n",
    "train_prepared"
   ]
  },
  {
   "cell_type": "code",
   "execution_count": 197,
   "metadata": {},
   "outputs": [],
   "source": [
    "## training and evaluating on training set (used linear reg but can try other models)\n",
    "\n",
    "from sklearn.linear_model import LinearRegression\n",
    "\n",
    "X = train_prepared\n",
    "y = train_output\n",
    "\n",
    "lin_reg = LinearRegression()\n",
    "fitted_training = lin_reg.fit(X, y)"
   ]
  },
  {
   "cell_type": "code",
   "execution_count": 198,
   "metadata": {},
   "outputs": [
    {
     "data": {
      "text/plain": [
       "0.3712236047807087"
      ]
     },
     "execution_count": 198,
     "metadata": {},
     "output_type": "execute_result"
    }
   ],
   "source": [
    "## measure RMSE to see model's level of performance\n",
    "\n",
    "from sklearn.metrics import mean_squared_error\n",
    "\n",
    "train_predictions = lin_reg.predict(train_prepared)\n",
    "lin_mse = mean_squared_error(train_output, train_predictions)\n",
    "lin_rmse = np.sqrt(lin_mse)\n",
    "lin_rmse"
   ]
  },
  {
   "cell_type": "code",
   "execution_count": 199,
   "metadata": {},
   "outputs": [
    {
     "name": "stdout",
     "output_type": "stream",
     "text": [
      "Scores: [0.36871292 0.3566106  0.37059711 0.34582686 0.37743271 0.39247142\n",
      " 0.38456292 0.36421803 0.36410885 0.41112263]\n",
      "Mean: 0.3735664065118961\n",
      "SD: 0.017804307355380886\n"
     ]
    }
   ],
   "source": [
    "## better evaluation via cross-validation\n",
    "\n",
    "from sklearn.model_selection import cross_val_score\n",
    "\n",
    "scores = cross_val_score(lin_reg, train_prepared, train_output, scoring='neg_mean_squared_error', cv=10)\n",
    "lin_rmse_scores = np.sqrt(-scores)\n",
    "\n",
    "def display_scores(scores):\n",
    "    print(\"Scores:\", scores)\n",
    "    print(\"Mean:\", scores.mean())\n",
    "    print(\"SD:\", scores.std())\n",
    "\n",
    "display_scores(lin_rmse_scores)"
   ]
  },
  {
   "cell_type": "code",
   "execution_count": 200,
   "metadata": {},
   "outputs": [
    {
     "name": "stdout",
     "output_type": "stream",
     "text": [
      "Fitting 5 folds for each of 7 candidates, totalling 35 fits\n"
     ]
    },
    {
     "name": "stderr",
     "output_type": "stream",
     "text": [
      "[Parallel(n_jobs=-1)]: Using backend LokyBackend with 4 concurrent workers.\n",
      "[Parallel(n_jobs=-1)]: Done  28 out of  35 | elapsed:    0.4s remaining:    0.1s\n",
      "[Parallel(n_jobs=-1)]: Done  35 out of  35 | elapsed:    0.5s finished\n"
     ]
    }
   ],
   "source": [
    "## find best hyperparameters via grid search\n",
    "\n",
    "from sklearn.model_selection import GridSearchCV\n",
    "from sklearn.linear_model import Ridge\n",
    "\n",
    "ridge = Ridge(alpha=1).fit(train_prepared, train_output)\n",
    "alpha = [0.001, 0.01, 0.1, 1, 10, 100, 1000]\n",
    "param_grid = dict(alpha=alpha)\n",
    "\n",
    "grid = GridSearchCV(estimator=ridge, param_grid=param_grid, scoring='r2', verbose=1, n_jobs=-1, refit=True)\n",
    "grid_result = grid.fit(train_prepared, train_output)"
   ]
  },
  {
   "cell_type": "code",
   "execution_count": 201,
   "metadata": {},
   "outputs": [
    {
     "name": "stdout",
     "output_type": "stream",
     "text": [
      "Best Score:  0.5228494263749333\n",
      "Best Params:  {'alpha': 1}\n"
     ]
    }
   ],
   "source": [
    "print('Best Score: ', grid_result.best_score_) # R squared score (binary, closest to 1 = better)\n",
    "print('Best Params: ', grid_result.best_params_)"
   ]
  },
  {
   "cell_type": "code",
   "execution_count": null,
   "metadata": {},
   "outputs": [],
   "source": []
  }
 ],
 "metadata": {
  "kernelspec": {
   "display_name": "Python 3",
   "language": "python",
   "name": "python3"
  },
  "language_info": {
   "codemirror_mode": {
    "name": "ipython",
    "version": 3
   },
   "file_extension": ".py",
   "mimetype": "text/x-python",
   "name": "python",
   "nbconvert_exporter": "python",
   "pygments_lexer": "ipython3",
   "version": "3.7.9"
  }
 },
 "nbformat": 4,
 "nbformat_minor": 4
}
